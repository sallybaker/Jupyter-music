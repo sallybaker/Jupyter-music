{
 "cells": [
  {
   "cell_type": "markdown",
   "metadata": {},
   "source": [
    "# World War I Music Scores from the State Library of Queensland \n",
    "The data for this notebook is available on the [Queensland Government Open Data Portal](https://www.data.qld.gov.au/dataset/state-library-of-queensland-music-queensland-world-war-1). "
   ]
  },
  {
   "cell_type": "markdown",
   "metadata": {},
   "source": [
    "## Get Data"
   ]
  },
  {
   "cell_type": "code",
   "execution_count": null,
   "metadata": {},
   "outputs": [],
   "source": [
    "# The following cell is based on Using_Jupyter_notebooks excercises \n",
    "# Import external package \n",
    "import requests\n",
    "\n",
    "# Base URL for requests \n",
    "url = 'https://www.data.qld.gov.au/api/3/action/datastore_search?resource_id=1275335e-72c8-4848-ae39-94275defe86d'\n",
    "\n",
    "# Query the API\n",
    "response = requests.get(url)\n",
    "\n",
    "# Extract the results as JSON\n",
    "results = response.json()\n",
    "results"
   ]
  },
  {
   "cell_type": "code",
   "execution_count": null,
   "metadata": {},
   "outputs": [],
   "source": [
    "records = results['result']['records']\n",
    "records"
   ]
  },
  {
   "cell_type": "code",
   "execution_count": null,
   "metadata": {},
   "outputs": [],
   "source": [
    "# How to pick a random number and save it to num variable\n",
    "from random import randint\n",
    "max = len(records)\n",
    "num = randint(0,max)\n",
    "message = \"Random number between 0 and \"+str(max)+\": \"+str(num)\n",
    "print(message)"
   ]
  },
  {
   "cell_type": "code",
   "execution_count": null,
   "metadata": {},
   "outputs": [],
   "source": [
    "# Get random title from the records\n",
    "records[num]['Title']"
   ]
  },
  {
   "cell_type": "code",
   "execution_count": null,
   "metadata": {},
   "outputs": [],
   "source": [
    "# Get the score URL of the random title \n",
    "url = records[num]['URL']\n",
    "url"
   ]
  },
  {
   "cell_type": "markdown",
   "metadata": {},
   "source": [
    "## Text Blob Translations"
   ]
  },
  {
   "cell_type": "code",
   "execution_count": null,
   "metadata": {},
   "outputs": [],
   "source": [
    "# Make string of titles from json array in lowercase\n",
    "i = 0\n",
    "text = \"\"\n",
    "while i < len(records):\n",
    "    text += \" \"+records[i]['Title'].lower()\n",
    "    i += 1\n",
    "text"
   ]
  },
  {
   "cell_type": "code",
   "execution_count": null,
   "metadata": {},
   "outputs": [],
   "source": [
    "from textblob import TextBlob\n",
    "blob = TextBlob(text)\n",
    "blob"
   ]
  },
  {
   "cell_type": "code",
   "execution_count": null,
   "metadata": {},
   "outputs": [],
   "source": [
    "#Show noun phrases in blob\n",
    "nouns = \"\"\n",
    "for np in blob.noun_phrases:\n",
    "    print(np)\n",
    "    nouns += np+\" \"    \n",
    "nouns\n",
    "blob = TextBlob(nouns)\n",
    "blob"
   ]
  },
  {
   "cell_type": "code",
   "execution_count": null,
   "metadata": {},
   "outputs": [],
   "source": [
    "spanish = blob.translate(to=\"es\")\n",
    "spanish"
   ]
  },
  {
   "cell_type": "code",
   "execution_count": null,
   "metadata": {},
   "outputs": [],
   "source": [
    "back_to_english = spanish.translate(to=\"en\")\n",
    "back_to_english"
   ]
  },
  {
   "cell_type": "markdown",
   "metadata": {},
   "source": [
    "## Wordcloud"
   ]
  },
  {
   "cell_type": "code",
   "execution_count": null,
   "metadata": {},
   "outputs": [],
   "source": [
    "# Wordcloud source from https://www.geeksforgeeks.org/generating-word-cloud-python\n",
    "from wordcloud import WordCloud, STOPWORDS \n",
    "import matplotlib.pyplot as plt \n",
    "import pandas as pd \n",
    "\n",
    "stopwords = set(STOPWORDS) \n",
    "\n",
    "wordcloud = WordCloud(width = 800, height = 800, \n",
    "                background_color ='black', \n",
    "                stopwords = stopwords, \n",
    "                min_font_size = 10).generate(text) \n",
    "  \n",
    "# plot the WordCloud image                        \n",
    "plt.figure(figsize = (8, 8), facecolor = None) \n",
    "plt.imshow(wordcloud) \n",
    "plt.axis(\"off\") \n",
    "plt.tight_layout(pad = 0) \n",
    "  \n",
    "plt.show() "
   ]
  },
  {
   "cell_type": "markdown",
   "metadata": {},
   "source": [
    "The End"
   ]
  }
 ],
 "metadata": {
  "kernelspec": {
   "display_name": "Python 3",
   "language": "python",
   "name": "python3"
  },
  "language_info": {
   "codemirror_mode": {
    "name": "ipython",
    "version": 3
   },
   "file_extension": ".py",
   "mimetype": "text/x-python",
   "name": "python",
   "nbconvert_exporter": "python",
   "pygments_lexer": "ipython3",
   "version": "3.7.3"
  }
 },
 "nbformat": 4,
 "nbformat_minor": 4
}
